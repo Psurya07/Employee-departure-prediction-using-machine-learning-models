{
 "cells": [
  {
   "cell_type": "markdown",
   "id": "a1aadbbc",
   "metadata": {},
   "source": [
    "#          MIDTERM PROJECT"
   ]
  },
  {
   "cell_type": "markdown",
   "id": "c452e22c",
   "metadata": {},
   "source": [
    "# EMPLOYEE DEPARTURE PREDICITON USING MACHINE LEARNING\n"
   ]
  },
  {
   "cell_type": "markdown",
   "id": "a44b7eb8",
   "metadata": {},
   "source": [
    "TEAM:PRANAV,NAVEEN"
   ]
  },
  {
   "cell_type": "markdown",
   "id": "3bfc7b1a",
   "metadata": {},
   "source": [
    "- This project focuses on developing and evaluating machine learning models for predicting employee departure or churn. The dataset contains crucial employee information such as gender, distance from the office, years of experience, salary details, and performance reviews. The main objective is to build accurate classification models that can predict whether an employee will leave the company or not based on these attributes. By leveraging machine learning algorithms and evaluating model performance.\n",
    "\n",
    "- Target: Left\n",
    "\n",
    "\n",
    "\n",
    "- Data Description:\n",
    "- Unnamed0: index\n",
    "- RecordID: unique value of each individual employee (identifier).\n",
    "- Gender: Male/Female\n",
    "- Distance: Distance from the premisis.\n",
    "- YearsWorked: Number of years with the organisation. \n",
    "- Previous Salary: salary earlier\n",
    "- Salary: Current salary.\n",
    "- SelfReview: Self rating\n",
    "- Supervisor Review: Supervisor Rating \n",
    "- Department Code: Department the employee belongs \n",
    "- Left: Whether the employee stayed or left the organisation."
   ]
  },
  {
   "cell_type": "code",
   "execution_count": 1,
   "id": "791783bb",
   "metadata": {},
   "outputs": [],
   "source": [
    "import pandas as pd\n",
    "import numpy as np\n",
    "import matplotlib.pyplot as plt\n",
    "import seaborn as sns\n",
    "import random\n",
    "from sklearn.ensemble import RandomForestClassifier\n",
    "from sklearn.tree import DecisionTreeClassifier\n",
    "from sklearn.model_selection import cross_validate\n",
    "from sklearn.pipeline import Pipeline, FeatureUnion\n",
    "from sklearn.compose import ColumnTransformer\n",
    "from sklearn.impute import SimpleImputer\n",
    "from sklearn.preprocessing import StandardScaler\n",
    "from sklearn.preprocessing import PolynomialFeatures\n",
    "from sklearn.preprocessing import OneHotEncoder, FunctionTransformer\n",
    "from sklearn.linear_model import LogisticRegression\n",
    "from sklearn.model_selection import GridSearchCV\n",
    "%matplotlib inline"
   ]
  },
  {
   "cell_type": "markdown",
   "id": "689c3e5f",
   "metadata": {},
   "source": [
    "# Exploratory Data Analysis"
   ]
  },
  {
   "cell_type": "code",
   "execution_count": 2,
   "id": "af297855",
   "metadata": {},
   "outputs": [
    {
     "data": {
      "text/html": [
       "<div>\n",
       "<style scoped>\n",
       "    .dataframe tbody tr th:only-of-type {\n",
       "        vertical-align: middle;\n",
       "    }\n",
       "\n",
       "    .dataframe tbody tr th {\n",
       "        vertical-align: top;\n",
       "    }\n",
       "\n",
       "    .dataframe thead th {\n",
       "        text-align: right;\n",
       "    }\n",
       "</style>\n",
       "<table border=\"1\" class=\"dataframe\">\n",
       "  <thead>\n",
       "    <tr style=\"text-align: right;\">\n",
       "      <th></th>\n",
       "      <th>Unnamed: 0</th>\n",
       "      <th>RecordId</th>\n",
       "      <th>Gender</th>\n",
       "      <th>Distance</th>\n",
       "      <th>YearsWorked</th>\n",
       "      <th>PreviousSalary</th>\n",
       "      <th>Salary</th>\n",
       "      <th>SelfReview</th>\n",
       "      <th>SupervisorReview</th>\n",
       "      <th>DepartmentCode</th>\n",
       "      <th>Left</th>\n",
       "    </tr>\n",
       "  </thead>\n",
       "  <tbody>\n",
       "    <tr>\n",
       "      <th>0</th>\n",
       "      <td>0</td>\n",
       "      <td>1002332</td>\n",
       "      <td>1</td>\n",
       "      <td>&gt;30miles</td>\n",
       "      <td>10</td>\n",
       "      <td>63K</td>\n",
       "      <td>65K</td>\n",
       "      <td>4.0</td>\n",
       "      <td>5.0</td>\n",
       "      <td>2</td>\n",
       "      <td>0</td>\n",
       "    </tr>\n",
       "    <tr>\n",
       "      <th>1</th>\n",
       "      <td>1</td>\n",
       "      <td>1002333</td>\n",
       "      <td>0</td>\n",
       "      <td>~10miles</td>\n",
       "      <td>7</td>\n",
       "      <td>54K</td>\n",
       "      <td>56K</td>\n",
       "      <td>4.0</td>\n",
       "      <td>4.0</td>\n",
       "      <td>2</td>\n",
       "      <td>0</td>\n",
       "    </tr>\n",
       "    <tr>\n",
       "      <th>2</th>\n",
       "      <td>2</td>\n",
       "      <td>1002334</td>\n",
       "      <td>0</td>\n",
       "      <td>&lt;5mile</td>\n",
       "      <td>5</td>\n",
       "      <td>60K</td>\n",
       "      <td>61K</td>\n",
       "      <td>4.0</td>\n",
       "      <td>4.0</td>\n",
       "      <td>3</td>\n",
       "      <td>0</td>\n",
       "    </tr>\n",
       "    <tr>\n",
       "      <th>3</th>\n",
       "      <td>3</td>\n",
       "      <td>1002335</td>\n",
       "      <td>0</td>\n",
       "      <td>~15miles</td>\n",
       "      <td>4</td>\n",
       "      <td>59K</td>\n",
       "      <td>60K</td>\n",
       "      <td>5.0</td>\n",
       "      <td>5.0</td>\n",
       "      <td>7</td>\n",
       "      <td>0</td>\n",
       "    </tr>\n",
       "    <tr>\n",
       "      <th>4</th>\n",
       "      <td>4</td>\n",
       "      <td>1002336</td>\n",
       "      <td>1</td>\n",
       "      <td>~20miles</td>\n",
       "      <td>6</td>\n",
       "      <td>61K</td>\n",
       "      <td>63K</td>\n",
       "      <td>5.0</td>\n",
       "      <td>5.0</td>\n",
       "      <td>5</td>\n",
       "      <td>0</td>\n",
       "    </tr>\n",
       "  </tbody>\n",
       "</table>\n",
       "</div>"
      ],
      "text/plain": [
       "   Unnamed: 0  RecordId  Gender  Distance  YearsWorked PreviousSalary Salary  \\\n",
       "0           0   1002332       1  >30miles           10            63K    65K   \n",
       "1           1   1002333       0  ~10miles            7            54K    56K   \n",
       "2           2   1002334       0    <5mile            5            60K    61K   \n",
       "3           3   1002335       0  ~15miles            4            59K    60K   \n",
       "4           4   1002336       1  ~20miles            6            61K    63K   \n",
       "\n",
       "   SelfReview  SupervisorReview  DepartmentCode  Left  \n",
       "0         4.0               5.0               2     0  \n",
       "1         4.0               4.0               2     0  \n",
       "2         4.0               4.0               3     0  \n",
       "3         5.0               5.0               7     0  \n",
       "4         5.0               5.0               5     0  "
      ]
     },
     "execution_count": 2,
     "metadata": {},
     "output_type": "execute_result"
    }
   ],
   "source": [
    "#load the data\n",
    "df = pd.read_csv('https://raw.githubusercontent.com/msaricaumbc/DS_data/master/ds602/midterm/employee_departure_dataset.csv')\n",
    "df.head()"
   ]
  },
  {
   "cell_type": "code",
   "execution_count": 3,
   "id": "313f9dae",
   "metadata": {},
   "outputs": [],
   "source": [
    "#Drop columns that are sequential\n",
    "columns_to_drop = [\"Unnamed: 0\", \"RecordId\"]\n",
    "df.drop(columns=columns_to_drop, inplace=True)"
   ]
  },
  {
   "cell_type": "code",
   "execution_count": 4,
   "id": "4043050c",
   "metadata": {},
   "outputs": [
    {
     "data": {
      "text/plain": [
       "Gender                int64\n",
       "Distance             object\n",
       "YearsWorked           int64\n",
       "PreviousSalary       object\n",
       "Salary               object\n",
       "SelfReview          float64\n",
       "SupervisorReview    float64\n",
       "DepartmentCode        int64\n",
       "Left                  int64\n",
       "dtype: object"
      ]
     },
     "execution_count": 4,
     "metadata": {},
     "output_type": "execute_result"
    }
   ],
   "source": [
    "#check Data types\n",
    "df.dtypes"
   ]
  },
  {
   "cell_type": "code",
   "execution_count": 5,
   "id": "79ea9149",
   "metadata": {},
   "outputs": [],
   "source": [
    "#convert the salary columns into a useful format\n",
    "df['PreviousSalary'] = df['PreviousSalary'].astype(str).str.replace('K', '').astype(float) * 1000\n",
    "df['Salary'] = df['Salary'].astype(str).str.replace('K', '').astype(float) * 1000"
   ]
  },
  {
   "cell_type": "code",
   "execution_count": 6,
   "id": "e4c50ce9",
   "metadata": {},
   "outputs": [],
   "source": [
    "df['Salary_Change']=df['Salary']-df['PreviousSalary']"
   ]
  },
  {
   "cell_type": "code",
   "execution_count": 7,
   "id": "6e196852",
   "metadata": {},
   "outputs": [],
   "source": [
    "bins = [0,3,7,10,14]\n",
    "labels = ['Fresher', 'Indermediate','Senior', 'Experienced']\n",
    "df['ExperienceLevel'] = pd.cut(df['YearsWorked'], bins=bins, labels=labels)"
   ]
  },
  {
   "cell_type": "code",
   "execution_count": 8,
   "id": "c554fe3c",
   "metadata": {},
   "outputs": [
    {
     "data": {
      "text/plain": [
       "Gender                 int64\n",
       "Distance              object\n",
       "YearsWorked            int64\n",
       "PreviousSalary       float64\n",
       "Salary               float64\n",
       "SelfReview           float64\n",
       "SupervisorReview     float64\n",
       "DepartmentCode         int64\n",
       "Left                   int64\n",
       "Salary_Change        float64\n",
       "ExperienceLevel     category\n",
       "dtype: object"
      ]
     },
     "execution_count": 8,
     "metadata": {},
     "output_type": "execute_result"
    }
   ],
   "source": [
    "df.dtypes"
   ]
  },
  {
   "cell_type": "code",
   "execution_count": 9,
   "id": "f9ecdbdf",
   "metadata": {},
   "outputs": [
    {
     "data": {
      "text/plain": [
       "Gender               2\n",
       "Distance             5\n",
       "YearsWorked         15\n",
       "PreviousSalary      26\n",
       "Salary              30\n",
       "SelfReview           3\n",
       "SupervisorReview     4\n",
       "DepartmentCode       6\n",
       "Left                 2\n",
       "Salary_Change        7\n",
       "ExperienceLevel      4\n",
       "dtype: int64"
      ]
     },
     "execution_count": 9,
     "metadata": {},
     "output_type": "execute_result"
    }
   ],
   "source": [
    "#check number of unique values\n",
    "df.nunique()"
   ]
  },
  {
   "cell_type": "code",
   "execution_count": 10,
   "id": "8f77adad",
   "metadata": {},
   "outputs": [
    {
     "data": {
      "text/plain": [
       "Gender                0\n",
       "Distance            265\n",
       "YearsWorked           0\n",
       "PreviousSalary        0\n",
       "Salary                0\n",
       "SelfReview          584\n",
       "SupervisorReview    576\n",
       "DepartmentCode        0\n",
       "Left                  0\n",
       "Salary_Change         0\n",
       "ExperienceLevel      14\n",
       "dtype: int64"
      ]
     },
     "execution_count": 10,
     "metadata": {},
     "output_type": "execute_result"
    }
   ],
   "source": [
    "#check null values\n",
    "df.isna().sum()"
   ]
  },
  {
   "cell_type": "code",
   "execution_count": 11,
   "id": "68b25f56",
   "metadata": {},
   "outputs": [
    {
     "data": {
      "text/html": [
       "<div>\n",
       "<style scoped>\n",
       "    .dataframe tbody tr th:only-of-type {\n",
       "        vertical-align: middle;\n",
       "    }\n",
       "\n",
       "    .dataframe tbody tr th {\n",
       "        vertical-align: top;\n",
       "    }\n",
       "\n",
       "    .dataframe thead th {\n",
       "        text-align: right;\n",
       "    }\n",
       "</style>\n",
       "<table border=\"1\" class=\"dataframe\">\n",
       "  <thead>\n",
       "    <tr style=\"text-align: right;\">\n",
       "      <th></th>\n",
       "      <th>Gender</th>\n",
       "      <th>Distance</th>\n",
       "      <th>YearsWorked</th>\n",
       "      <th>PreviousSalary</th>\n",
       "      <th>Salary</th>\n",
       "      <th>SelfReview</th>\n",
       "      <th>SupervisorReview</th>\n",
       "      <th>DepartmentCode</th>\n",
       "      <th>Left</th>\n",
       "      <th>Salary_Change</th>\n",
       "      <th>ExperienceLevel</th>\n",
       "    </tr>\n",
       "  </thead>\n",
       "  <tbody>\n",
       "    <tr>\n",
       "      <th>0</th>\n",
       "      <td>1</td>\n",
       "      <td>&gt;30miles</td>\n",
       "      <td>10</td>\n",
       "      <td>63000.0</td>\n",
       "      <td>65000.0</td>\n",
       "      <td>4.0</td>\n",
       "      <td>5.0</td>\n",
       "      <td>2</td>\n",
       "      <td>0</td>\n",
       "      <td>2000.0</td>\n",
       "      <td>Senior</td>\n",
       "    </tr>\n",
       "    <tr>\n",
       "      <th>1</th>\n",
       "      <td>0</td>\n",
       "      <td>~10miles</td>\n",
       "      <td>7</td>\n",
       "      <td>54000.0</td>\n",
       "      <td>56000.0</td>\n",
       "      <td>4.0</td>\n",
       "      <td>4.0</td>\n",
       "      <td>2</td>\n",
       "      <td>0</td>\n",
       "      <td>2000.0</td>\n",
       "      <td>Indermediate</td>\n",
       "    </tr>\n",
       "    <tr>\n",
       "      <th>2</th>\n",
       "      <td>0</td>\n",
       "      <td>&lt;5mile</td>\n",
       "      <td>5</td>\n",
       "      <td>60000.0</td>\n",
       "      <td>61000.0</td>\n",
       "      <td>4.0</td>\n",
       "      <td>4.0</td>\n",
       "      <td>3</td>\n",
       "      <td>0</td>\n",
       "      <td>1000.0</td>\n",
       "      <td>Indermediate</td>\n",
       "    </tr>\n",
       "    <tr>\n",
       "      <th>3</th>\n",
       "      <td>0</td>\n",
       "      <td>~15miles</td>\n",
       "      <td>4</td>\n",
       "      <td>59000.0</td>\n",
       "      <td>60000.0</td>\n",
       "      <td>5.0</td>\n",
       "      <td>5.0</td>\n",
       "      <td>7</td>\n",
       "      <td>0</td>\n",
       "      <td>1000.0</td>\n",
       "      <td>Indermediate</td>\n",
       "    </tr>\n",
       "    <tr>\n",
       "      <th>4</th>\n",
       "      <td>1</td>\n",
       "      <td>~20miles</td>\n",
       "      <td>6</td>\n",
       "      <td>61000.0</td>\n",
       "      <td>63000.0</td>\n",
       "      <td>5.0</td>\n",
       "      <td>5.0</td>\n",
       "      <td>5</td>\n",
       "      <td>0</td>\n",
       "      <td>2000.0</td>\n",
       "      <td>Indermediate</td>\n",
       "    </tr>\n",
       "  </tbody>\n",
       "</table>\n",
       "</div>"
      ],
      "text/plain": [
       "   Gender  Distance  YearsWorked  PreviousSalary   Salary  SelfReview  \\\n",
       "0       1  >30miles           10         63000.0  65000.0         4.0   \n",
       "1       0  ~10miles            7         54000.0  56000.0         4.0   \n",
       "2       0    <5mile            5         60000.0  61000.0         4.0   \n",
       "3       0  ~15miles            4         59000.0  60000.0         5.0   \n",
       "4       1  ~20miles            6         61000.0  63000.0         5.0   \n",
       "\n",
       "   SupervisorReview  DepartmentCode  Left  Salary_Change ExperienceLevel  \n",
       "0               5.0               2     0         2000.0          Senior  \n",
       "1               4.0               2     0         2000.0    Indermediate  \n",
       "2               4.0               3     0         1000.0    Indermediate  \n",
       "3               5.0               7     0         1000.0    Indermediate  \n",
       "4               5.0               5     0         2000.0    Indermediate  "
      ]
     },
     "execution_count": 11,
     "metadata": {},
     "output_type": "execute_result"
    }
   ],
   "source": [
    "df.head()"
   ]
  },
  {
   "cell_type": "code",
   "execution_count": 12,
   "id": "f11b1c78",
   "metadata": {},
   "outputs": [
    {
     "data": {
      "text/html": [
       "<div>\n",
       "<style scoped>\n",
       "    .dataframe tbody tr th:only-of-type {\n",
       "        vertical-align: middle;\n",
       "    }\n",
       "\n",
       "    .dataframe tbody tr th {\n",
       "        vertical-align: top;\n",
       "    }\n",
       "\n",
       "    .dataframe thead th {\n",
       "        text-align: right;\n",
       "    }\n",
       "</style>\n",
       "<table border=\"1\" class=\"dataframe\">\n",
       "  <thead>\n",
       "    <tr style=\"text-align: right;\">\n",
       "      <th></th>\n",
       "      <th>Gender</th>\n",
       "      <th>YearsWorked</th>\n",
       "      <th>PreviousSalary</th>\n",
       "      <th>Salary</th>\n",
       "      <th>SelfReview</th>\n",
       "      <th>SupervisorReview</th>\n",
       "      <th>DepartmentCode</th>\n",
       "      <th>Left</th>\n",
       "      <th>Salary_Change</th>\n",
       "    </tr>\n",
       "  </thead>\n",
       "  <tbody>\n",
       "    <tr>\n",
       "      <th>count</th>\n",
       "      <td>300000.000000</td>\n",
       "      <td>300000.000000</td>\n",
       "      <td>300000.000000</td>\n",
       "      <td>300000.000000</td>\n",
       "      <td>299416.000000</td>\n",
       "      <td>299424.000000</td>\n",
       "      <td>300000.000000</td>\n",
       "      <td>300000.000000</td>\n",
       "      <td>300000.000000</td>\n",
       "    </tr>\n",
       "    <tr>\n",
       "      <th>mean</th>\n",
       "      <td>0.401043</td>\n",
       "      <td>7.003120</td>\n",
       "      <td>59505.056667</td>\n",
       "      <td>61309.390000</td>\n",
       "      <td>4.399084</td>\n",
       "      <td>4.101308</td>\n",
       "      <td>3.997480</td>\n",
       "      <td>0.231833</td>\n",
       "      <td>1804.333333</td>\n",
       "    </tr>\n",
       "    <tr>\n",
       "      <th>std</th>\n",
       "      <td>0.490111</td>\n",
       "      <td>1.867817</td>\n",
       "      <td>2988.773027</td>\n",
       "      <td>3171.111479</td>\n",
       "      <td>0.663330</td>\n",
       "      <td>0.943972</td>\n",
       "      <td>2.161085</td>\n",
       "      <td>0.422004</td>\n",
       "      <td>849.456862</td>\n",
       "    </tr>\n",
       "    <tr>\n",
       "      <th>min</th>\n",
       "      <td>0.000000</td>\n",
       "      <td>0.000000</td>\n",
       "      <td>45000.000000</td>\n",
       "      <td>45000.000000</td>\n",
       "      <td>3.000000</td>\n",
       "      <td>2.000000</td>\n",
       "      <td>1.000000</td>\n",
       "      <td>0.000000</td>\n",
       "      <td>0.000000</td>\n",
       "    </tr>\n",
       "    <tr>\n",
       "      <th>25%</th>\n",
       "      <td>0.000000</td>\n",
       "      <td>6.000000</td>\n",
       "      <td>58000.000000</td>\n",
       "      <td>59000.000000</td>\n",
       "      <td>4.000000</td>\n",
       "      <td>4.000000</td>\n",
       "      <td>2.000000</td>\n",
       "      <td>0.000000</td>\n",
       "      <td>1000.000000</td>\n",
       "    </tr>\n",
       "    <tr>\n",
       "      <th>50%</th>\n",
       "      <td>0.000000</td>\n",
       "      <td>7.000000</td>\n",
       "      <td>60000.000000</td>\n",
       "      <td>61000.000000</td>\n",
       "      <td>4.000000</td>\n",
       "      <td>4.000000</td>\n",
       "      <td>3.000000</td>\n",
       "      <td>0.000000</td>\n",
       "      <td>2000.000000</td>\n",
       "    </tr>\n",
       "    <tr>\n",
       "      <th>75%</th>\n",
       "      <td>1.000000</td>\n",
       "      <td>8.000000</td>\n",
       "      <td>62000.000000</td>\n",
       "      <td>63000.000000</td>\n",
       "      <td>5.000000</td>\n",
       "      <td>5.000000</td>\n",
       "      <td>6.000000</td>\n",
       "      <td>0.000000</td>\n",
       "      <td>2000.000000</td>\n",
       "    </tr>\n",
       "    <tr>\n",
       "      <th>max</th>\n",
       "      <td>1.000000</td>\n",
       "      <td>14.000000</td>\n",
       "      <td>70000.000000</td>\n",
       "      <td>74000.000000</td>\n",
       "      <td>5.000000</td>\n",
       "      <td>5.000000</td>\n",
       "      <td>7.000000</td>\n",
       "      <td>1.000000</td>\n",
       "      <td>6000.000000</td>\n",
       "    </tr>\n",
       "  </tbody>\n",
       "</table>\n",
       "</div>"
      ],
      "text/plain": [
       "              Gender    YearsWorked  PreviousSalary         Salary  \\\n",
       "count  300000.000000  300000.000000   300000.000000  300000.000000   \n",
       "mean        0.401043       7.003120    59505.056667   61309.390000   \n",
       "std         0.490111       1.867817     2988.773027    3171.111479   \n",
       "min         0.000000       0.000000    45000.000000   45000.000000   \n",
       "25%         0.000000       6.000000    58000.000000   59000.000000   \n",
       "50%         0.000000       7.000000    60000.000000   61000.000000   \n",
       "75%         1.000000       8.000000    62000.000000   63000.000000   \n",
       "max         1.000000      14.000000    70000.000000   74000.000000   \n",
       "\n",
       "          SelfReview  SupervisorReview  DepartmentCode           Left  \\\n",
       "count  299416.000000     299424.000000   300000.000000  300000.000000   \n",
       "mean        4.399084          4.101308        3.997480       0.231833   \n",
       "std         0.663330          0.943972        2.161085       0.422004   \n",
       "min         3.000000          2.000000        1.000000       0.000000   \n",
       "25%         4.000000          4.000000        2.000000       0.000000   \n",
       "50%         4.000000          4.000000        3.000000       0.000000   \n",
       "75%         5.000000          5.000000        6.000000       0.000000   \n",
       "max         5.000000          5.000000        7.000000       1.000000   \n",
       "\n",
       "       Salary_Change  \n",
       "count  300000.000000  \n",
       "mean     1804.333333  \n",
       "std       849.456862  \n",
       "min         0.000000  \n",
       "25%      1000.000000  \n",
       "50%      2000.000000  \n",
       "75%      2000.000000  \n",
       "max      6000.000000  "
      ]
     },
     "execution_count": 12,
     "metadata": {},
     "output_type": "execute_result"
    }
   ],
   "source": [
    "df.describe()"
   ]
  },
  {
   "cell_type": "code",
   "execution_count": 13,
   "id": "99b34319",
   "metadata": {},
   "outputs": [
    {
     "name": "stderr",
     "output_type": "stream",
     "text": [
      "C:\\Users\\gsspr\\AppData\\Local\\Temp\\ipykernel_34932\\982702872.py:2: FutureWarning: The default value of numeric_only in DataFrame.corr is deprecated. In a future version, it will default to False. Select only valid columns or specify the value of numeric_only to silence this warning.\n",
      "  df.corr()\n"
     ]
    },
    {
     "data": {
      "text/html": [
       "<div>\n",
       "<style scoped>\n",
       "    .dataframe tbody tr th:only-of-type {\n",
       "        vertical-align: middle;\n",
       "    }\n",
       "\n",
       "    .dataframe tbody tr th {\n",
       "        vertical-align: top;\n",
       "    }\n",
       "\n",
       "    .dataframe thead th {\n",
       "        text-align: right;\n",
       "    }\n",
       "</style>\n",
       "<table border=\"1\" class=\"dataframe\">\n",
       "  <thead>\n",
       "    <tr style=\"text-align: right;\">\n",
       "      <th></th>\n",
       "      <th>Gender</th>\n",
       "      <th>YearsWorked</th>\n",
       "      <th>PreviousSalary</th>\n",
       "      <th>Salary</th>\n",
       "      <th>SelfReview</th>\n",
       "      <th>SupervisorReview</th>\n",
       "      <th>DepartmentCode</th>\n",
       "      <th>Left</th>\n",
       "      <th>Salary_Change</th>\n",
       "    </tr>\n",
       "  </thead>\n",
       "  <tbody>\n",
       "    <tr>\n",
       "      <th>Gender</th>\n",
       "      <td>1.000000</td>\n",
       "      <td>-0.000103</td>\n",
       "      <td>0.002419</td>\n",
       "      <td>0.002525</td>\n",
       "      <td>-0.000466</td>\n",
       "      <td>-0.002540</td>\n",
       "      <td>0.000246</td>\n",
       "      <td>-0.080043</td>\n",
       "      <td>0.000915</td>\n",
       "    </tr>\n",
       "    <tr>\n",
       "      <th>YearsWorked</th>\n",
       "      <td>-0.000103</td>\n",
       "      <td>1.000000</td>\n",
       "      <td>0.000206</td>\n",
       "      <td>-0.000033</td>\n",
       "      <td>-0.000260</td>\n",
       "      <td>0.002250</td>\n",
       "      <td>0.000805</td>\n",
       "      <td>-0.060786</td>\n",
       "      <td>-0.000846</td>\n",
       "    </tr>\n",
       "    <tr>\n",
       "      <th>PreviousSalary</th>\n",
       "      <td>0.002419</td>\n",
       "      <td>0.000206</td>\n",
       "      <td>1.000000</td>\n",
       "      <td>0.963687</td>\n",
       "      <td>0.000957</td>\n",
       "      <td>0.001806</td>\n",
       "      <td>0.002340</td>\n",
       "      <td>-0.012598</td>\n",
       "      <td>0.079093</td>\n",
       "    </tr>\n",
       "    <tr>\n",
       "      <th>Salary</th>\n",
       "      <td>0.002525</td>\n",
       "      <td>-0.000033</td>\n",
       "      <td>0.963687</td>\n",
       "      <td>1.000000</td>\n",
       "      <td>0.001280</td>\n",
       "      <td>0.001048</td>\n",
       "      <td>0.002938</td>\n",
       "      <td>-0.076938</td>\n",
       "      <td>0.342418</td>\n",
       "    </tr>\n",
       "    <tr>\n",
       "      <th>SelfReview</th>\n",
       "      <td>-0.000466</td>\n",
       "      <td>-0.000260</td>\n",
       "      <td>0.000957</td>\n",
       "      <td>0.001280</td>\n",
       "      <td>1.000000</td>\n",
       "      <td>0.000693</td>\n",
       "      <td>-0.000314</td>\n",
       "      <td>0.157590</td>\n",
       "      <td>0.001411</td>\n",
       "    </tr>\n",
       "    <tr>\n",
       "      <th>SupervisorReview</th>\n",
       "      <td>-0.002540</td>\n",
       "      <td>0.002250</td>\n",
       "      <td>0.001806</td>\n",
       "      <td>0.001048</td>\n",
       "      <td>0.000693</td>\n",
       "      <td>1.000000</td>\n",
       "      <td>-0.002264</td>\n",
       "      <td>-0.249545</td>\n",
       "      <td>-0.002443</td>\n",
       "    </tr>\n",
       "    <tr>\n",
       "      <th>DepartmentCode</th>\n",
       "      <td>0.000246</td>\n",
       "      <td>0.000805</td>\n",
       "      <td>0.002340</td>\n",
       "      <td>0.002938</td>\n",
       "      <td>-0.000314</td>\n",
       "      <td>-0.002264</td>\n",
       "      <td>1.000000</td>\n",
       "      <td>-0.216110</td>\n",
       "      <td>0.002735</td>\n",
       "    </tr>\n",
       "    <tr>\n",
       "      <th>Left</th>\n",
       "      <td>-0.080043</td>\n",
       "      <td>-0.060786</td>\n",
       "      <td>-0.012598</td>\n",
       "      <td>-0.076938</td>\n",
       "      <td>0.157590</td>\n",
       "      <td>-0.249545</td>\n",
       "      <td>-0.216110</td>\n",
       "      <td>1.000000</td>\n",
       "      <td>-0.242895</td>\n",
       "    </tr>\n",
       "    <tr>\n",
       "      <th>Salary_Change</th>\n",
       "      <td>0.000915</td>\n",
       "      <td>-0.000846</td>\n",
       "      <td>0.079093</td>\n",
       "      <td>0.342418</td>\n",
       "      <td>0.001411</td>\n",
       "      <td>-0.002443</td>\n",
       "      <td>0.002735</td>\n",
       "      <td>-0.242895</td>\n",
       "      <td>1.000000</td>\n",
       "    </tr>\n",
       "  </tbody>\n",
       "</table>\n",
       "</div>"
      ],
      "text/plain": [
       "                    Gender  YearsWorked  PreviousSalary    Salary  SelfReview  \\\n",
       "Gender            1.000000    -0.000103        0.002419  0.002525   -0.000466   \n",
       "YearsWorked      -0.000103     1.000000        0.000206 -0.000033   -0.000260   \n",
       "PreviousSalary    0.002419     0.000206        1.000000  0.963687    0.000957   \n",
       "Salary            0.002525    -0.000033        0.963687  1.000000    0.001280   \n",
       "SelfReview       -0.000466    -0.000260        0.000957  0.001280    1.000000   \n",
       "SupervisorReview -0.002540     0.002250        0.001806  0.001048    0.000693   \n",
       "DepartmentCode    0.000246     0.000805        0.002340  0.002938   -0.000314   \n",
       "Left             -0.080043    -0.060786       -0.012598 -0.076938    0.157590   \n",
       "Salary_Change     0.000915    -0.000846        0.079093  0.342418    0.001411   \n",
       "\n",
       "                  SupervisorReview  DepartmentCode      Left  Salary_Change  \n",
       "Gender                   -0.002540        0.000246 -0.080043       0.000915  \n",
       "YearsWorked               0.002250        0.000805 -0.060786      -0.000846  \n",
       "PreviousSalary            0.001806        0.002340 -0.012598       0.079093  \n",
       "Salary                    0.001048        0.002938 -0.076938       0.342418  \n",
       "SelfReview                0.000693       -0.000314  0.157590       0.001411  \n",
       "SupervisorReview          1.000000       -0.002264 -0.249545      -0.002443  \n",
       "DepartmentCode           -0.002264        1.000000 -0.216110       0.002735  \n",
       "Left                     -0.249545       -0.216110  1.000000      -0.242895  \n",
       "Salary_Change            -0.002443        0.002735 -0.242895       1.000000  "
      ]
     },
     "execution_count": 13,
     "metadata": {},
     "output_type": "execute_result"
    }
   ],
   "source": [
    "#to check correlations between years worked, salaries, review scores, and whether an employee has left.\n",
    "df.corr()"
   ]
  },
  {
   "cell_type": "code",
   "execution_count": 41,
   "id": "7fe23768",
   "metadata": {},
   "outputs": [
    {
     "name": "stderr",
     "output_type": "stream",
     "text": [
      "C:\\Users\\gsspr\\AppData\\Local\\Temp\\ipykernel_27952\\2948105825.py:1: FutureWarning: The default value of numeric_only in DataFrame.corr is deprecated. In a future version, it will default to False. Select only valid columns or specify the value of numeric_only to silence this warning.\n",
      "  correlation_matrix = df.corr()\n"
     ]
    },
    {
     "name": "stdout",
     "output_type": "stream",
     "text": [
      "                    Gender  YearsWorked  PreviousSalary    Salary  SelfReview  \\\n",
      "Gender            1.000000    -0.000103        0.002419  0.002525   -0.000466   \n",
      "YearsWorked      -0.000103     1.000000        0.000206 -0.000033   -0.000260   \n",
      "PreviousSalary    0.002419     0.000206        1.000000  0.963687    0.000957   \n",
      "Salary            0.002525    -0.000033        0.963687  1.000000    0.001280   \n",
      "SelfReview       -0.000466    -0.000260        0.000957  0.001280    1.000000   \n",
      "SupervisorReview -0.002540     0.002250        0.001806  0.001048    0.000693   \n",
      "DepartmentCode    0.000246     0.000805        0.002340  0.002938   -0.000314   \n",
      "Left             -0.080043    -0.060786       -0.012598 -0.076938    0.157590   \n",
      "Salary_Change     0.000915    -0.000846        0.079093  0.342418    0.001411   \n",
      "\n",
      "                  SupervisorReview  DepartmentCode      Left  Salary_Change  \n",
      "Gender                   -0.002540        0.000246 -0.080043       0.000915  \n",
      "YearsWorked               0.002250        0.000805 -0.060786      -0.000846  \n",
      "PreviousSalary            0.001806        0.002340 -0.012598       0.079093  \n",
      "Salary                    0.001048        0.002938 -0.076938       0.342418  \n",
      "SelfReview                0.000693       -0.000314  0.157590       0.001411  \n",
      "SupervisorReview          1.000000       -0.002264 -0.249545      -0.002443  \n",
      "DepartmentCode           -0.002264        1.000000 -0.216110       0.002735  \n",
      "Left                     -0.249545       -0.216110  1.000000      -0.242895  \n",
      "Salary_Change            -0.002443        0.002735 -0.242895       1.000000  \n"
     ]
    },
    {
     "data": {
      "image/png": "[encoded data removed]",
      "text/plain": [
       "<Figure size 1000x800 with 2 Axes>"
      ]
     },
     "metadata": {},
     "output_type": "display_data"
    }
   ],
   "source": [
    "correlation_matrix = df.corr()\n",
    "print(correlation_matrix)\n",
    "plt.figure(figsize=(10, 8))\n",
    "sns.heatmap(correlation_matrix, annot=True, cmap='coolwarm', fmt=\".2f\")\n",
    "plt.title('Correlation Matrix')\n",
    "plt.show()"
   ]
  },
  {
   "cell_type": "markdown",
   "id": "753f45b3",
   "metadata": {},
   "source": [
    "\n",
    "- A weak negative correlation (-0.22) between certain departments and employee attrition suggests that those departments may have higher turnover rates.\n",
    "- Employees with lower self-review ratings are somewhat more likely to leave the company (correlation of 0.16).\n",
    "- Employees with lower supervisor review ratings are even more likely to leave the company (correlation of -0.25).\n",
    "\n",
    "\n",
    "\n"
   ]
  },
  {
   "cell_type": "code",
   "execution_count": 14,
   "id": "62f55f34",
   "metadata": {},
   "outputs": [],
   "source": [
    "#Distribution check\n",
    "y=df['Left']\n",
    "t=[i for i in df if i!='Left']\n",
    "X=df[t]"
   ]
  },
  {
   "cell_type": "code",
   "execution_count": 44,
   "id": "a36f0bad",
   "metadata": {},
   "outputs": [
    {
     "data": {
      "image/png": "[encoded data removed]",
      "text/plain": [
       "<Figure size 640x480 with 1 Axes>"
      ]
     },
     "metadata": {},
     "output_type": "display_data"
    }
   ],
   "source": [
    "X['Gender'].value_counts().plot.barh()\n",
    "plt.title('Gender (F/M) ')\n",
    "plt.xlabel('Gender')\n",
    "plt.show()"
   ]
  },
  {
   "cell_type": "code",
   "execution_count": 43,
   "id": "2928d87c",
   "metadata": {},
   "outputs": [
    {
     "data": {
      "image/png": "[encoded data removed]",
      "text/plain": [
       "<Figure size 640x480 with 1 Axes>"
      ]
     },
     "metadata": {},
     "output_type": "display_data"
    }
   ],
   "source": [
    "y.value_counts().plot.barh()\n",
    "plt.title('Target Variable(Left)')\n",
    "plt.xlabel('Target Variable')\n",
    "plt.show()"
   ]
  },
  {
   "cell_type": "code",
   "execution_count": 45,
   "id": "4f5f684e",
   "metadata": {},
   "outputs": [
    {
     "data": {
      "text/plain": [
       "(-8.0, 20.0)"
      ]
     },
     "execution_count": 45,
     "metadata": {},
     "output_type": "execute_result"
    },
    {
     "data": {
      "image/png": "[encoded data removed]",
      "text/plain": [
       "<Figure size 640x480 with 1 Axes>"
      ]
     },
     "metadata": {},
     "output_type": "display_data"
    }
   ],
   "source": [
    "import seaborn as sns\n",
    "import matplotlib.pyplot as plt\n",
    "ax=sns.boxplot(X,whis=3)\n",
    "ax.set_xticklabels(ax.get_xticklabels(), rotation=45, horizontalalignment='right')\n",
    "plt.title('Distribution of the Input Variables')\n",
    "plt.ylim(-8, 20)"
   ]
  },
  {
   "cell_type": "code",
   "execution_count": 46,
   "id": "387083cb",
   "metadata": {},
   "outputs": [
    {
     "data": {
      "text/plain": [
       "Text(0.5, 1.0, 'Distribution of the Input Variables')"
      ]
     },
     "execution_count": 46,
     "metadata": {},
     "output_type": "execute_result"
    },
    {
     "data": {
      "image/png": "[encoded data removed]",
      "text/plain": [
       "<Figure size 640x480 with 1 Axes>"
      ]
     },
     "metadata": {},
     "output_type": "display_data"
    }
   ],
   "source": [
    "a=['PreviousSalary','Salary','Salary_Change']\n",
    "ax=sns.boxplot(X[a],whis=3)\n",
    "ax.set_xticklabels(ax.get_xticklabels(), rotation=45, horizontalalignment='right')\n",
    "plt.title('Distribution of the Input Variables')"
   ]
  },
  {
   "cell_type": "code",
   "execution_count": 19,
   "id": "cbee4d7d",
   "metadata": {},
   "outputs": [
    {
     "data": {
      "text/html": [
       "<div>\n",
       "<style scoped>\n",
       "    .dataframe tbody tr th:only-of-type {\n",
       "        vertical-align: middle;\n",
       "    }\n",
       "\n",
       "    .dataframe tbody tr th {\n",
       "        vertical-align: top;\n",
       "    }\n",
       "\n",
       "    .dataframe thead th {\n",
       "        text-align: right;\n",
       "    }\n",
       "</style>\n",
       "<table border=\"1\" class=\"dataframe\">\n",
       "  <thead>\n",
       "    <tr style=\"text-align: right;\">\n",
       "      <th></th>\n",
       "      <th>Gender</th>\n",
       "      <th>Distance</th>\n",
       "      <th>YearsWorked</th>\n",
       "      <th>PreviousSalary</th>\n",
       "      <th>Salary</th>\n",
       "      <th>SelfReview</th>\n",
       "      <th>SupervisorReview</th>\n",
       "      <th>DepartmentCode</th>\n",
       "      <th>Salary_Change</th>\n",
       "      <th>ExperienceLevel</th>\n",
       "    </tr>\n",
       "  </thead>\n",
       "  <tbody>\n",
       "    <tr>\n",
       "      <th>0</th>\n",
       "      <td>1</td>\n",
       "      <td>&gt;30miles</td>\n",
       "      <td>10</td>\n",
       "      <td>63000.0</td>\n",
       "      <td>65000.0</td>\n",
       "      <td>4.0</td>\n",
       "      <td>5.0</td>\n",
       "      <td>2</td>\n",
       "      <td>2000.0</td>\n",
       "      <td>Senior</td>\n",
       "    </tr>\n",
       "    <tr>\n",
       "      <th>1</th>\n",
       "      <td>0</td>\n",
       "      <td>~10miles</td>\n",
       "      <td>7</td>\n",
       "      <td>54000.0</td>\n",
       "      <td>56000.0</td>\n",
       "      <td>4.0</td>\n",
       "      <td>4.0</td>\n",
       "      <td>2</td>\n",
       "      <td>2000.0</td>\n",
       "      <td>Indermediate</td>\n",
       "    </tr>\n",
       "    <tr>\n",
       "      <th>2</th>\n",
       "      <td>0</td>\n",
       "      <td>&lt;5mile</td>\n",
       "      <td>5</td>\n",
       "      <td>60000.0</td>\n",
       "      <td>61000.0</td>\n",
       "      <td>4.0</td>\n",
       "      <td>4.0</td>\n",
       "      <td>3</td>\n",
       "      <td>1000.0</td>\n",
       "      <td>Indermediate</td>\n",
       "    </tr>\n",
       "    <tr>\n",
       "      <th>3</th>\n",
       "      <td>0</td>\n",
       "      <td>~15miles</td>\n",
       "      <td>4</td>\n",
       "      <td>59000.0</td>\n",
       "      <td>60000.0</td>\n",
       "      <td>5.0</td>\n",
       "      <td>5.0</td>\n",
       "      <td>7</td>\n",
       "      <td>1000.0</td>\n",
       "      <td>Indermediate</td>\n",
       "    </tr>\n",
       "    <tr>\n",
       "      <th>4</th>\n",
       "      <td>1</td>\n",
       "      <td>~20miles</td>\n",
       "      <td>6</td>\n",
       "      <td>61000.0</td>\n",
       "      <td>63000.0</td>\n",
       "      <td>5.0</td>\n",
       "      <td>5.0</td>\n",
       "      <td>5</td>\n",
       "      <td>2000.0</td>\n",
       "      <td>Indermediate</td>\n",
       "    </tr>\n",
       "  </tbody>\n",
       "</table>\n",
       "</div>"
      ],
      "text/plain": [
       "   Gender  Distance  YearsWorked  PreviousSalary   Salary  SelfReview  \\\n",
       "0       1  >30miles           10         63000.0  65000.0         4.0   \n",
       "1       0  ~10miles            7         54000.0  56000.0         4.0   \n",
       "2       0    <5mile            5         60000.0  61000.0         4.0   \n",
       "3       0  ~15miles            4         59000.0  60000.0         5.0   \n",
       "4       1  ~20miles            6         61000.0  63000.0         5.0   \n",
       "\n",
       "   SupervisorReview  DepartmentCode  Salary_Change ExperienceLevel  \n",
       "0               5.0               2         2000.0          Senior  \n",
       "1               4.0               2         2000.0    Indermediate  \n",
       "2               4.0               3         1000.0    Indermediate  \n",
       "3               5.0               7         1000.0    Indermediate  \n",
       "4               5.0               5         2000.0    Indermediate  "
      ]
     },
     "execution_count": 19,
     "metadata": {},
     "output_type": "execute_result"
    }
   ],
   "source": [
    "X.head()"
   ]
  },
  {
   "cell_type": "markdown",
   "id": "376b4719",
   "metadata": {},
   "source": [
    "## Observations:\n",
    "\n",
    "- The output variable is not a perfectly balanced one.\n",
    "- The gender is also not balanced.\n",
    "- salary columns are not in correct format.\n",
    "- There are unnecessary columns in the data which are sequential and are of no use.\n",
    "- Few variables like salary can be converted to numerical which can be more helpful to identify patterns.\n",
    "- There is not much variance in most of the independent variables.\n",
    "- the highest correlation is found between previous salary and the salary.\n",
    "- gender and years worked show least correlation with all the other features.\n",
    "- a few outilers are found in the salary columns."
   ]
  },
  {
   "cell_type": "markdown",
   "id": "a1359eb4",
   "metadata": {},
   "source": [
    "## Operations Performed:\n",
    "\n",
    "- Salary columns are converted into exact numerical figures which can be useful for the analysis.\n",
    "- Feature engineering is performed and 2 new features are extracted. Experience level is brought in which basically segments the total data into 4 different categories. Salary difference is brought in to see if it has any impact on the target variable.\n",
    "- Class dirtribution is observed using the horizontal bar plots.\n",
    "- Outliers are observed using box plots."
   ]
  },
  {
   "cell_type": "markdown",
   "id": "095a7ec5",
   "metadata": {},
   "source": [
    "## Game Plan:\n",
    "\n",
    "- Missing values are found so we use imputer for numerical variables, onehotencoder for categorical variables.\n",
    "- standard scaler will be implemented to scale and bring all the values to a single platform.\n",
    "- We will be implementing 3 models, as it is a classification problem we implemented logistic regression, decision tree and random forest methods and select the best model(winner model).\n",
    "- As it is a large dataset, implementing this on the entire thing is not feesible. We will be doing it on a sample of data and then select the winner model and implement it on the entire dataset.\n",
    "- we will select a range of hyper parameters for the model.\n",
    "- We will employ GridSearch for identifying the best metrics and then use them on the final model.\n",
    "- As it is an imbalanced dataset, we will not consider accuracy as a metric as it can be mis-leading. Selecting the metric depends on the importance of false positives and false negatives.  In such cases, ROC-AUC, F1 score, or Precision-Recall AUC provide a more nuanced evaluation of model performance across classes.\n",
    "- Here we are considering Precision-recall AUC as it will perfectly balance both, employees likely to leave (recall) and maintaining precision. "
   ]
  },
  {
   "cell_type": "markdown",
   "id": "ed88bc72",
   "metadata": {},
   "source": [
    "# Modeling"
   ]
  },
  {
   "cell_type": "markdown",
   "id": "39963e76",
   "metadata": {},
   "source": [
    "## Pipeline Creation:"
   ]
  },
  {
   "cell_type": "code",
   "execution_count": 20,
   "id": "33d43cb4",
   "metadata": {},
   "outputs": [
    {
     "data": {
      "text/html": [
       "<style>#sk-container-id-1 {color: black;}#sk-container-id-1 pre{padding: 0;}#sk-container-id-1 div.sk-toggleable {background-color: white;}#sk-container-id-1 label.sk-toggleable__label {cursor: pointer;display: block;width: 100%;margin-bottom: 0;padding: 0.3em;box-sizing: border-box;text-align: center;}#sk-container-id-1 label.sk-toggleable__label-arrow:before {content: \"▸\";float: left;margin-right: 0.25em;color: #696969;}#sk-container-id-1 label.sk-toggleable__label-arrow:hover:before {color: black;}#sk-container-id-1 div.sk-estimator:hover label.sk-toggleable__label-arrow:before {color: black;}#sk-container-id-1 div.sk-toggleable__content {max-height: 0;max-width: 0;overflow: hidden;text-align: left;background-color: #f0f8ff;}#sk-container-id-1 div.sk-toggleable__content pre {margin: 0.2em;color: black;border-radius: 0.25em;background-color: #f0f8ff;}#sk-container-id-1 input.sk-toggleable__control:checked~div.sk-toggleable__content {max-height: 200px;max-width: 100%;overflow: auto;}#sk-container-id-1 input.sk-toggleable__control:checked~label.sk-toggleable__label-arrow:before {content: \"▾\";}#sk-container-id-1 div.sk-estimator input.sk-toggleable__control:checked~label.sk-toggleable__label {background-color: #d4ebff;}#sk-container-id-1 div.sk-label input.sk-toggleable__control:checked~label.sk-toggleable__label {background-color: #d4ebff;}#sk-container-id-1 input.sk-hidden--visually {border: 0;clip: rect(1px 1px 1px 1px);clip: rect(1px, 1px, 1px, 1px);height: 1px;margin: -1px;overflow: hidden;padding: 0;position: absolute;width: 1px;}#sk-container-id-1 div.sk-estimator {font-family: monospace;background-color: #f0f8ff;border: 1px dotted black;border-radius: 0.25em;box-sizing: border-box;margin-bottom: 0.5em;}#sk-container-id-1 div.sk-estimator:hover {background-color: #d4ebff;}#sk-container-id-1 div.sk-parallel-item::after {content: \"\";width: 100%;border-bottom: 1px solid gray;flex-grow: 1;}#sk-container-id-1 div.sk-label:hover label.sk-toggleable__label {background-color: #d4ebff;}#sk-container-id-1 div.sk-serial::before {content: \"\";position: absolute;border-left: 1px solid gray;box-sizing: border-box;top: 0;bottom: 0;left: 50%;z-index: 0;}#sk-container-id-1 div.sk-serial {display: flex;flex-direction: column;align-items: center;background-color: white;padding-right: 0.2em;padding-left: 0.2em;position: relative;}#sk-container-id-1 div.sk-item {position: relative;z-index: 1;}#sk-container-id-1 div.sk-parallel {display: flex;align-items: stretch;justify-content: center;background-color: white;position: relative;}#sk-container-id-1 div.sk-item::before, #sk-container-id-1 div.sk-parallel-item::before {content: \"\";position: absolute;border-left: 1px solid gray;box-sizing: border-box;top: 0;bottom: 0;left: 50%;z-index: -1;}#sk-container-id-1 div.sk-parallel-item {display: flex;flex-direction: column;z-index: 1;position: relative;background-color: white;}#sk-container-id-1 div.sk-parallel-item:first-child::after {align-self: flex-end;width: 50%;}#sk-container-id-1 div.sk-parallel-item:last-child::after {align-self: flex-start;width: 50%;}#sk-container-id-1 div.sk-parallel-item:only-child::after {width: 0;}#sk-container-id-1 div.sk-dashed-wrapped {border: 1px dashed gray;margin: 0 0.4em 0.5em 0.4em;box-sizing: border-box;padding-bottom: 0.4em;background-color: white;}#sk-container-id-1 div.sk-label label {font-family: monospace;font-weight: bold;display: inline-block;line-height: 1.2em;}#sk-container-id-1 div.sk-label-container {text-align: center;}#sk-container-id-1 div.sk-container {/* jupyter's `normalize.less` sets `[hidden] { display: none; }` but bootstrap.min.css set `[hidden] { display: none !important; }` so we also need the `!important` here to be able to override the default hidden behavior on the sphinx rendered scikit-learn.org. See: https://github.com/scikit-learn/scikit-learn/issues/21755 */display: inline-block !important;position: relative;}#sk-container-id-1 div.sk-text-repr-fallback {display: none;}</style><div id=\"sk-container-id-1\" class=\"sk-top-container\"><div class=\"sk-text-repr-fallback\"><pre>ColumnTransformer(transformers=[(&#x27;num pipeline&#x27;,\n",
       "                                 Pipeline(steps=[(&#x27;impute_missing&#x27;,\n",
       "                                                  SimpleImputer(strategy=&#x27;median&#x27;)),\n",
       "                                                 (&#x27;standardize_num&#x27;,\n",
       "                                                  StandardScaler())]),\n",
       "                                 [&#x27;YearsWorked&#x27;, &#x27;PreviousSalary&#x27;, &#x27;Salary&#x27;,\n",
       "                                  &#x27;SelfReview&#x27;, &#x27;SupervisorReview&#x27;,\n",
       "                                  &#x27;Salary_Change&#x27;]),\n",
       "                                (&#x27;cat pipeline&#x27;,\n",
       "                                 Pipeline(steps=[(&#x27;impute_missing_cats&#x27;,\n",
       "                                                  SimpleImputer(strategy=&#x27;most_frequent&#x27;)),\n",
       "                                                 (&#x27;create_dummies_cats&#x27;,\n",
       "                                                  OneHotEncoder(drop=&#x27;first&#x27;,\n",
       "                                                                handle_unknown=&#x27;ignore&#x27;))]),\n",
       "                                 [&#x27;Gender&#x27;, &#x27;Distance&#x27;, &#x27;DepartmentCode&#x27;,\n",
       "                                  &#x27;ExperienceLevel&#x27;])])</pre><b>In a Jupyter environment, please rerun this cell to show the HTML representation or trust the notebook. <br />On GitHub, the HTML representation is unable to render, please try loading this page with nbviewer.org.</b></div><div class=\"sk-container\" hidden><div class=\"sk-item sk-dashed-wrapped\"><div class=\"sk-label-container\"><div class=\"sk-label sk-toggleable\"><input class=\"sk-toggleable__control sk-hidden--visually\" id=\"sk-estimator-id-1\" type=\"checkbox\" ><label for=\"sk-estimator-id-1\" class=\"sk-toggleable__label sk-toggleable__label-arrow\">ColumnTransformer</label><div class=\"sk-toggleable__content\"><pre>ColumnTransformer(transformers=[(&#x27;num pipeline&#x27;,\n",
       "                                 Pipeline(steps=[(&#x27;impute_missing&#x27;,\n",
       "                                                  SimpleImputer(strategy=&#x27;median&#x27;)),\n",
       "                                                 (&#x27;standardize_num&#x27;,\n",
       "                                                  StandardScaler())]),\n",
       "                                 [&#x27;YearsWorked&#x27;, &#x27;PreviousSalary&#x27;, &#x27;Salary&#x27;,\n",
       "                                  &#x27;SelfReview&#x27;, &#x27;SupervisorReview&#x27;,\n",
       "                                  &#x27;Salary_Change&#x27;]),\n",
       "                                (&#x27;cat pipeline&#x27;,\n",
       "                                 Pipeline(steps=[(&#x27;impute_missing_cats&#x27;,\n",
       "                                                  SimpleImputer(strategy=&#x27;most_frequent&#x27;)),\n",
       "                                                 (&#x27;create_dummies_cats&#x27;,\n",
       "                                                  OneHotEncoder(drop=&#x27;first&#x27;,\n",
       "                                                                handle_unknown=&#x27;ignore&#x27;))]),\n",
       "                                 [&#x27;Gender&#x27;, &#x27;Distance&#x27;, &#x27;DepartmentCode&#x27;,\n",
       "                                  &#x27;ExperienceLevel&#x27;])])</pre></div></div></div><div class=\"sk-parallel\"><div class=\"sk-parallel-item\"><div class=\"sk-item\"><div class=\"sk-label-container\"><div class=\"sk-label sk-toggleable\"><input class=\"sk-toggleable__control sk-hidden--visually\" id=\"sk-estimator-id-2\" type=\"checkbox\" ><label for=\"sk-estimator-id-2\" class=\"sk-toggleable__label sk-toggleable__label-arrow\">num pipeline</label><div class=\"sk-toggleable__content\"><pre>[&#x27;YearsWorked&#x27;, &#x27;PreviousSalary&#x27;, &#x27;Salary&#x27;, &#x27;SelfReview&#x27;, &#x27;SupervisorReview&#x27;, &#x27;Salary_Change&#x27;]</pre></div></div></div><div class=\"sk-serial\"><div class=\"sk-item\"><div class=\"sk-serial\"><div class=\"sk-item\"><div class=\"sk-estimator sk-toggleable\"><input class=\"sk-toggleable__control sk-hidden--visually\" id=\"sk-estimator-id-3\" type=\"checkbox\" ><label for=\"sk-estimator-id-3\" class=\"sk-toggleable__label sk-toggleable__label-arrow\">SimpleImputer</label><div class=\"sk-toggleable__content\"><pre>SimpleImputer(strategy=&#x27;median&#x27;)</pre></div></div></div><div class=\"sk-item\"><div class=\"sk-estimator sk-toggleable\"><input class=\"sk-toggleable__control sk-hidden--visually\" id=\"sk-estimator-id-4\" type=\"checkbox\" ><label for=\"sk-estimator-id-4\" class=\"sk-toggleable__label sk-toggleable__label-arrow\">StandardScaler</label><div class=\"sk-toggleable__content\"><pre>StandardScaler()</pre></div></div></div></div></div></div></div></div><div class=\"sk-parallel-item\"><div class=\"sk-item\"><div class=\"sk-label-container\"><div class=\"sk-label sk-toggleable\"><input class=\"sk-toggleable__control sk-hidden--visually\" id=\"sk-estimator-id-5\" type=\"checkbox\" ><label for=\"sk-estimator-id-5\" class=\"sk-toggleable__label sk-toggleable__label-arrow\">cat pipeline</label><div class=\"sk-toggleable__content\"><pre>[&#x27;Gender&#x27;, &#x27;Distance&#x27;, &#x27;DepartmentCode&#x27;, &#x27;ExperienceLevel&#x27;]</pre></div></div></div><div class=\"sk-serial\"><div class=\"sk-item\"><div class=\"sk-serial\"><div class=\"sk-item\"><div class=\"sk-estimator sk-toggleable\"><input class=\"sk-toggleable__control sk-hidden--visually\" id=\"sk-estimator-id-6\" type=\"checkbox\" ><label for=\"sk-estimator-id-6\" class=\"sk-toggleable__label sk-toggleable__label-arrow\">SimpleImputer</label><div class=\"sk-toggleable__content\"><pre>SimpleImputer(strategy=&#x27;most_frequent&#x27;)</pre></div></div></div><div class=\"sk-item\"><div class=\"sk-estimator sk-toggleable\"><input class=\"sk-toggleable__control sk-hidden--visually\" id=\"sk-estimator-id-7\" type=\"checkbox\" ><label for=\"sk-estimator-id-7\" class=\"sk-toggleable__label sk-toggleable__label-arrow\">OneHotEncoder</label><div class=\"sk-toggleable__content\"><pre>OneHotEncoder(drop=&#x27;first&#x27;, handle_unknown=&#x27;ignore&#x27;)</pre></div></div></div></div></div></div></div></div></div></div></div></div>"
      ],
      "text/plain": [
       "ColumnTransformer(transformers=[('num pipeline',\n",
       "                                 Pipeline(steps=[('impute_missing',\n",
       "                                                  SimpleImputer(strategy='median')),\n",
       "                                                 ('standardize_num',\n",
       "                                                  StandardScaler())]),\n",
       "                                 ['YearsWorked', 'PreviousSalary', 'Salary',\n",
       "                                  'SelfReview', 'SupervisorReview',\n",
       "                                  'Salary_Change']),\n",
       "                                ('cat pipeline',\n",
       "                                 Pipeline(steps=[('impute_missing_cats',\n",
       "                                                  SimpleImputer(strategy='most_frequent')),\n",
       "                                                 ('create_dummies_cats',\n",
       "                                                  OneHotEncoder(drop='first',\n",
       "                                                                handle_unknown='ignore'))]),\n",
       "                                 ['Gender', 'Distance', 'DepartmentCode',\n",
       "                                  'ExperienceLevel'])])"
      ]
     },
     "execution_count": 20,
     "metadata": {},
     "output_type": "execute_result"
    }
   ],
   "source": [
    "# create processing pipeline\n",
    "num=['YearsWorked','PreviousSalary','Salary','SelfReview','SupervisorReview','Salary_Change']\n",
    "cat=['Gender','Distance','DepartmentCode','ExperienceLevel']\n",
    "#num pipeline\n",
    "num_pipeline = Pipeline([('impute_missing', SimpleImputer(strategy='median')),('standardize_num', StandardScaler())])\n",
    "#cat pipeline\n",
    "cat_pipeline = Pipeline([('impute_missing_cats', SimpleImputer(strategy='most_frequent')),('create_dummies_cats', OneHotEncoder(handle_unknown='ignore', drop='first'))])\n",
    "\n",
    "processing_pipeline = ColumnTransformer(transformers=[('num pipeline', num_pipeline, num),\n",
    "                                                      ('cat pipeline', cat_pipeline, cat)])\n",
    "processing_pipeline"
   ]
  },
  {
   "cell_type": "code",
   "execution_count": 21,
   "id": "361d8238",
   "metadata": {},
   "outputs": [],
   "source": [
    "X_sample=X[0:10000]\n",
    "y_sample=y[0:10000]"
   ]
  },
  {
   "cell_type": "code",
   "execution_count": 22,
   "id": "d8ec701d",
   "metadata": {},
   "outputs": [
    {
     "name": "stdout",
     "output_type": "stream",
     "text": [
      "Training examples: 8,000\n",
      "Test examples: 2,000\n"
     ]
    }
   ],
   "source": [
    "from sklearn.model_selection import train_test_split\n",
    "X_train, X_test, y_train, y_test = train_test_split(X_sample,\n",
    "                                                        y_sample,\n",
    "                                                        test_size=0.20)\n",
    "\n",
    "print(f'Training examples: {X_train.shape[0]:,}')\n",
    "print(f'Test examples: {X_test.shape[0]:,}')"
   ]
  },
  {
   "cell_type": "markdown",
   "id": "d1406766",
   "metadata": {},
   "source": [
    "# Logistic Regression"
   ]
  },
  {
   "cell_type": "code",
   "execution_count": 23,
   "id": "fc4fa2c7",
   "metadata": {},
   "outputs": [],
   "source": [
    "from sklearn.pipeline import Pipeline\n",
    "from sklearn.linear_model import LogisticRegression\n",
    "from sklearn.model_selection import GridSearchCV\n",
    "\n",
    "\n",
    "\n",
    "# logistic regression pipeline \n",
    "logreg_modeling_pipeline = Pipeline([\n",
    "    ('data_processing', processing_pipeline),\n",
    "    ('logreg', LogisticRegression(max_iter=1000, solver='liblinear'))  \n",
    "])\n",
    "\n",
    "# parameter grid for logistic regression \n",
    "logreg_param_grid = [{\n",
    "    'logreg__class_weight': [None, 'balanced'],  \n",
    "    'logreg__C': [0.01, 0.1, 1, 10, 100],  \n",
    "    'logreg__penalty': ['l1', 'l2']  \n",
    "}]\n",
    "\n",
    "# Scoring metric\n",
    "scoring = 'f1'\n",
    "\n",
    "# GridSearch\n",
    "logreg_gc = GridSearchCV(estimator=logreg_modeling_pipeline, param_grid=logreg_param_grid, cv=5, scoring=scoring)\n",
    "\n",
    "# Fit the model on the training data\n",
    "logreg_gcv_results = logreg_gc.fit(X_train, y_train)"
   ]
  },
  {
   "cell_type": "code",
   "execution_count": 24,
   "id": "7db63ef8",
   "metadata": {},
   "outputs": [
    {
     "data": {
      "text/plain": [
       "{'logreg__C': 0.1, 'logreg__class_weight': None, 'logreg__penalty': 'l1'}"
      ]
     },
     "execution_count": 24,
     "metadata": {},
     "output_type": "execute_result"
    }
   ],
   "source": [
    "logreg_gc.best_params_"
   ]
  },
  {
   "cell_type": "code",
   "execution_count": 25,
   "id": "ae0a4fbf",
   "metadata": {},
   "outputs": [
    {
     "data": {
      "text/plain": [
       "0.6049351389175838"
      ]
     },
     "execution_count": 25,
     "metadata": {},
     "output_type": "execute_result"
    }
   ],
   "source": [
    "logreg_gc.score(X_train, y_train)"
   ]
  },
  {
   "cell_type": "code",
   "execution_count": 26,
   "id": "9f6135d1",
   "metadata": {},
   "outputs": [
    {
     "data": {
      "text/plain": [
       "0.6592604477977161"
      ]
     },
     "execution_count": 26,
     "metadata": {},
     "output_type": "execute_result"
    }
   ],
   "source": [
    "logreg_gc.score(X_test, y_test)"
   ]
  },
  {
   "cell_type": "markdown",
   "id": "471ff86e",
   "metadata": {},
   "source": [
    "# Decision Tree"
   ]
  },
  {
   "cell_type": "code",
   "execution_count": 27,
   "id": "68d7d8bb",
   "metadata": {},
   "outputs": [
    {
     "name": "stdout",
     "output_type": "stream",
     "text": [
      "Fitting 5 folds for each of 27 candidates, totalling 135 fits\n"
     ]
    }
   ],
   "source": [
    "from sklearn.pipeline import Pipeline\n",
    "from sklearn.tree import DecisionTreeClassifier\n",
    "from sklearn.model_selection import GridSearchCV\n",
    "\n",
    "\n",
    "# Define the Decision Tree modeling pipeline\n",
    "dt_modeling_pipeline = Pipeline([\n",
    "    ('data_processing', processing_pipeline),\n",
    "    ('dt', DecisionTreeClassifier(random_state=42))  # Using 'dt' for DecisionTreeClassifier\n",
    "])\n",
    "\n",
    "dt_param_grid = [{\n",
    "    'dt__criterion': ['gini'],  \n",
    "    'dt__max_depth': [ 5, 7, 10],  \n",
    "    'dt__min_samples_leaf': [30, 50, 70],  \n",
    "    'dt__min_samples_split': [20, 40, 60]  \n",
    "}]\n",
    "# scoring metric\n",
    "scoring = 'f1'\n",
    "\n",
    "# Configure GridSearch\n",
    "dt_gc = GridSearchCV(estimator=dt_modeling_pipeline, param_grid=dt_param_grid, cv=5, scoring=scoring)\n",
    "\n",
    "# Fit the model on the training data\n",
    "dt_gcv_results = dt_gc.fit(X_train, y_train)"
   ]
  },
  {
   "cell_type": "code",
   "execution_count": 28,
   "id": "9a1c4b7e",
   "metadata": {},
   "outputs": [
    {
     "data": {
      "text/plain": [
       "{'dt__criterion': 'gini',\n",
       " 'dt__max_depth': 10,\n",
       " 'dt__min_samples_leaf': 50,\n",
       " 'dt__min_samples_split': 20}"
      ]
     },
     "execution_count": 28,
     "metadata": {},
     "output_type": "execute_result"
    }
   ],
   "source": [
    "dt_gcv_results.best_params_"
   ]
  },
  {
   "cell_type": "code",
   "execution_count": 29,
   "id": "de3a7963",
   "metadata": {},
   "outputs": [
    {
     "data": {
      "text/plain": [
       "0.7819766705198528"
      ]
     },
     "execution_count": 29,
     "metadata": {},
     "output_type": "execute_result"
    }
   ],
   "source": [
    "dt_gcv_results.score(X_train, y_train)"
   ]
  },
  {
   "cell_type": "code",
   "execution_count": 30,
   "id": "2434559b",
   "metadata": {},
   "outputs": [
    {
     "data": {
      "text/plain": [
       "0.7604327399516789"
      ]
     },
     "execution_count": 30,
     "metadata": {},
     "output_type": "execute_result"
    }
   ],
   "source": [
    "dt_gcv_results.score(X_test, y_test)"
   ]
  },
  {
   "cell_type": "markdown",
   "id": "32a6d73d",
   "metadata": {},
   "source": [
    "# Random Forests"
   ]
  },
  {
   "cell_type": "code",
   "execution_count": 31,
   "id": "38e57a26",
   "metadata": {},
   "outputs": [
    {
     "name": "stdout",
     "output_type": "stream",
     "text": [
      "Fitting 5 folds for each of 4 candidates, totalling 20 fits\n"
     ]
    }
   ],
   "source": [
    "from sklearn.pipeline import Pipeline\n",
    "from sklearn.ensemble import RandomForestClassifier\n",
    "from sklearn.model_selection import GridSearchCV\n",
    "\n",
    "\n",
    "\n",
    "# Define the Random Forest modeling pipeline\n",
    "rf_modeling_pipeline = Pipeline([\n",
    "    ('data_processing', processing_pipeline),\n",
    "    ('rf', RandomForestClassifier(random_state=42))  # 'rf' for RandomForestClassifier\n",
    "])\n",
    "\n",
    "# Define the parameter grid focusing on the specified essential parameters\n",
    "\n",
    "rf_param_grid = [{\n",
    "    'rf__criterion': ['gini'],  \n",
    "    'rf__max_depth': [5, 10],  \n",
    "    'rf__n_estimators': [30, 50],  \n",
    "    'rf__class_weight': ['balanced'],  \n",
    "    'rf__max_samples': [None]  \n",
    "}]\n",
    "\n",
    "#Scoring metric\n",
    "scoring = 'f1'\n",
    "\n",
    "# Configure GridSearch\n",
    "rf_gc = GridSearchCV(estimator=rf_modeling_pipeline, param_grid=rf_param_grid, cv=5, scoring=scoring)\n",
    "\n",
    "# Fit the model on the training data\n",
    "rf_gcv_results = rf_gc.fit(X_train, y_train)"
   ]
  },
  {
   "cell_type": "code",
   "execution_count": 32,
   "id": "ab6c2448",
   "metadata": {},
   "outputs": [
    {
     "data": {
      "text/plain": [
       "{'rf__class_weight': 'balanced',\n",
       " 'rf__criterion': 'gini',\n",
       " 'rf__max_depth': 10,\n",
       " 'rf__max_samples': None,\n",
       " 'rf__n_estimators': 50}"
      ]
     },
     "execution_count": 32,
     "metadata": {},
     "output_type": "execute_result"
    }
   ],
   "source": [
    "rf_gcv_results.best_params_"
   ]
  },
  {
   "cell_type": "code",
   "execution_count": 33,
   "id": "da9274f3",
   "metadata": {},
   "outputs": [
    {
     "data": {
      "text/plain": [
       "0.8803408285063584"
      ]
     },
     "execution_count": 33,
     "metadata": {},
     "output_type": "execute_result"
    }
   ],
   "source": [
    "rf_gcv_results.score(X_train, y_train)"
   ]
  },
  {
   "cell_type": "code",
   "execution_count": 34,
   "id": "a7a35b0a",
   "metadata": {},
   "outputs": [
    {
     "data": {
      "text/plain": [
       "0.7338818299198892"
      ]
     },
     "execution_count": 34,
     "metadata": {},
     "output_type": "execute_result"
    }
   ],
   "source": [
    "rf_gcv_results.score(X_test, y_test)"
   ]
  },
  {
   "cell_type": "code",
   "execution_count": 35,
   "id": "44f66a6c",
   "metadata": {},
   "outputs": [
    {
     "name": "stdout",
     "output_type": "stream",
     "text": [
      "Training examples: 240,000\n",
      "Test examples: 60,000\n"
     ]
    },
    {
     "data": {
      "text/html": [
       "<style>#sk-container-id-2 {color: black;}#sk-container-id-2 pre{padding: 0;}#sk-container-id-2 div.sk-toggleable {background-color: white;}#sk-container-id-2 label.sk-toggleable__label {cursor: pointer;display: block;width: 100%;margin-bottom: 0;padding: 0.3em;box-sizing: border-box;text-align: center;}#sk-container-id-2 label.sk-toggleable__label-arrow:before {content: \"▸\";float: left;margin-right: 0.25em;color: #696969;}#sk-container-id-2 label.sk-toggleable__label-arrow:hover:before {color: black;}#sk-container-id-2 div.sk-estimator:hover label.sk-toggleable__label-arrow:before {color: black;}#sk-container-id-2 div.sk-toggleable__content {max-height: 0;max-width: 0;overflow: hidden;text-align: left;background-color: #f0f8ff;}#sk-container-id-2 div.sk-toggleable__content pre {margin: 0.2em;color: black;border-radius: 0.25em;background-color: #f0f8ff;}#sk-container-id-2 input.sk-toggleable__control:checked~div.sk-toggleable__content {max-height: 200px;max-width: 100%;overflow: auto;}#sk-container-id-2 input.sk-toggleable__control:checked~label.sk-toggleable__label-arrow:before {content: \"▾\";}#sk-container-id-2 div.sk-estimator input.sk-toggleable__control:checked~label.sk-toggleable__label {background-color: #d4ebff;}#sk-container-id-2 div.sk-label input.sk-toggleable__control:checked~label.sk-toggleable__label {background-color: #d4ebff;}#sk-container-id-2 input.sk-hidden--visually {border: 0;clip: rect(1px 1px 1px 1px);clip: rect(1px, 1px, 1px, 1px);height: 1px;margin: -1px;overflow: hidden;padding: 0;position: absolute;width: 1px;}#sk-container-id-2 div.sk-estimator {font-family: monospace;background-color: #f0f8ff;border: 1px dotted black;border-radius: 0.25em;box-sizing: border-box;margin-bottom: 0.5em;}#sk-container-id-2 div.sk-estimator:hover {background-color: #d4ebff;}#sk-container-id-2 div.sk-parallel-item::after {content: \"\";width: 100%;border-bottom: 1px solid gray;flex-grow: 1;}#sk-container-id-2 div.sk-label:hover label.sk-toggleable__label {background-color: #d4ebff;}#sk-container-id-2 div.sk-serial::before {content: \"\";position: absolute;border-left: 1px solid gray;box-sizing: border-box;top: 0;bottom: 0;left: 50%;z-index: 0;}#sk-container-id-2 div.sk-serial {display: flex;flex-direction: column;align-items: center;background-color: white;padding-right: 0.2em;padding-left: 0.2em;position: relative;}#sk-container-id-2 div.sk-item {position: relative;z-index: 1;}#sk-container-id-2 div.sk-parallel {display: flex;align-items: stretch;justify-content: center;background-color: white;position: relative;}#sk-container-id-2 div.sk-item::before, #sk-container-id-2 div.sk-parallel-item::before {content: \"\";position: absolute;border-left: 1px solid gray;box-sizing: border-box;top: 0;bottom: 0;left: 50%;z-index: -1;}#sk-container-id-2 div.sk-parallel-item {display: flex;flex-direction: column;z-index: 1;position: relative;background-color: white;}#sk-container-id-2 div.sk-parallel-item:first-child::after {align-self: flex-end;width: 50%;}#sk-container-id-2 div.sk-parallel-item:last-child::after {align-self: flex-start;width: 50%;}#sk-container-id-2 div.sk-parallel-item:only-child::after {width: 0;}#sk-container-id-2 div.sk-dashed-wrapped {border: 1px dashed gray;margin: 0 0.4em 0.5em 0.4em;box-sizing: border-box;padding-bottom: 0.4em;background-color: white;}#sk-container-id-2 div.sk-label label {font-family: monospace;font-weight: bold;display: inline-block;line-height: 1.2em;}#sk-container-id-2 div.sk-label-container {text-align: center;}#sk-container-id-2 div.sk-container {/* jupyter's `normalize.less` sets `[hidden] { display: none; }` but bootstrap.min.css set `[hidden] { display: none !important; }` so we also need the `!important` here to be able to override the default hidden behavior on the sphinx rendered scikit-learn.org. See: https://github.com/scikit-learn/scikit-learn/issues/21755 */display: inline-block !important;position: relative;}#sk-container-id-2 div.sk-text-repr-fallback {display: none;}</style><div id=\"sk-container-id-2\" class=\"sk-top-container\"><div class=\"sk-text-repr-fallback\"><pre>Pipeline(steps=[(&#x27;data_processing&#x27;,\n",
       "                 ColumnTransformer(transformers=[(&#x27;num pipeline&#x27;,\n",
       "                                                  Pipeline(steps=[(&#x27;impute_missing&#x27;,\n",
       "                                                                   SimpleImputer(strategy=&#x27;median&#x27;)),\n",
       "                                                                  (&#x27;standardize_num&#x27;,\n",
       "                                                                   StandardScaler())]),\n",
       "                                                  [&#x27;YearsWorked&#x27;,\n",
       "                                                   &#x27;PreviousSalary&#x27;, &#x27;Salary&#x27;,\n",
       "                                                   &#x27;SelfReview&#x27;,\n",
       "                                                   &#x27;SupervisorReview&#x27;,\n",
       "                                                   &#x27;Salary_Change&#x27;]),\n",
       "                                                 (&#x27;cat pipeline&#x27;,\n",
       "                                                  Pipeline(steps=[(&#x27;impute_missing_cats&#x27;,\n",
       "                                                                   SimpleImputer(strategy=&#x27;most_frequent&#x27;)),\n",
       "                                                                  (&#x27;create_dummies_cats&#x27;,\n",
       "                                                                   OneHotEncoder(drop=&#x27;first&#x27;,\n",
       "                                                                                 handle_unknown=&#x27;ignore&#x27;))]),\n",
       "                                                  [&#x27;Gender&#x27;, &#x27;Distance&#x27;,\n",
       "                                                   &#x27;DepartmentCode&#x27;,\n",
       "                                                   &#x27;ExperienceLevel&#x27;])])),\n",
       "                (&#x27;ml&#x27;,\n",
       "                 DecisionTreeClassifier(max_depth=10, min_samples_leaf=70,\n",
       "                                        min_samples_split=20))])</pre><b>In a Jupyter environment, please rerun this cell to show the HTML representation or trust the notebook. <br />On GitHub, the HTML representation is unable to render, please try loading this page with nbviewer.org.</b></div><div class=\"sk-container\" hidden><div class=\"sk-item sk-dashed-wrapped\"><div class=\"sk-label-container\"><div class=\"sk-label sk-toggleable\"><input class=\"sk-toggleable__control sk-hidden--visually\" id=\"sk-estimator-id-8\" type=\"checkbox\" ><label for=\"sk-estimator-id-8\" class=\"sk-toggleable__label sk-toggleable__label-arrow\">Pipeline</label><div class=\"sk-toggleable__content\"><pre>Pipeline(steps=[(&#x27;data_processing&#x27;,\n",
       "                 ColumnTransformer(transformers=[(&#x27;num pipeline&#x27;,\n",
       "                                                  Pipeline(steps=[(&#x27;impute_missing&#x27;,\n",
       "                                                                   SimpleImputer(strategy=&#x27;median&#x27;)),\n",
       "                                                                  (&#x27;standardize_num&#x27;,\n",
       "                                                                   StandardScaler())]),\n",
       "                                                  [&#x27;YearsWorked&#x27;,\n",
       "                                                   &#x27;PreviousSalary&#x27;, &#x27;Salary&#x27;,\n",
       "                                                   &#x27;SelfReview&#x27;,\n",
       "                                                   &#x27;SupervisorReview&#x27;,\n",
       "                                                   &#x27;Salary_Change&#x27;]),\n",
       "                                                 (&#x27;cat pipeline&#x27;,\n",
       "                                                  Pipeline(steps=[(&#x27;impute_missing_cats&#x27;,\n",
       "                                                                   SimpleImputer(strategy=&#x27;most_frequent&#x27;)),\n",
       "                                                                  (&#x27;create_dummies_cats&#x27;,\n",
       "                                                                   OneHotEncoder(drop=&#x27;first&#x27;,\n",
       "                                                                                 handle_unknown=&#x27;ignore&#x27;))]),\n",
       "                                                  [&#x27;Gender&#x27;, &#x27;Distance&#x27;,\n",
       "                                                   &#x27;DepartmentCode&#x27;,\n",
       "                                                   &#x27;ExperienceLevel&#x27;])])),\n",
       "                (&#x27;ml&#x27;,\n",
       "                 DecisionTreeClassifier(max_depth=10, min_samples_leaf=70,\n",
       "                                        min_samples_split=20))])</pre></div></div></div><div class=\"sk-serial\"><div class=\"sk-item sk-dashed-wrapped\"><div class=\"sk-label-container\"><div class=\"sk-label sk-toggleable\"><input class=\"sk-toggleable__control sk-hidden--visually\" id=\"sk-estimator-id-9\" type=\"checkbox\" ><label for=\"sk-estimator-id-9\" class=\"sk-toggleable__label sk-toggleable__label-arrow\">data_processing: ColumnTransformer</label><div class=\"sk-toggleable__content\"><pre>ColumnTransformer(transformers=[(&#x27;num pipeline&#x27;,\n",
       "                                 Pipeline(steps=[(&#x27;impute_missing&#x27;,\n",
       "                                                  SimpleImputer(strategy=&#x27;median&#x27;)),\n",
       "                                                 (&#x27;standardize_num&#x27;,\n",
       "                                                  StandardScaler())]),\n",
       "                                 [&#x27;YearsWorked&#x27;, &#x27;PreviousSalary&#x27;, &#x27;Salary&#x27;,\n",
       "                                  &#x27;SelfReview&#x27;, &#x27;SupervisorReview&#x27;,\n",
       "                                  &#x27;Salary_Change&#x27;]),\n",
       "                                (&#x27;cat pipeline&#x27;,\n",
       "                                 Pipeline(steps=[(&#x27;impute_missing_cats&#x27;,\n",
       "                                                  SimpleImputer(strategy=&#x27;most_frequent&#x27;)),\n",
       "                                                 (&#x27;create_dummies_cats&#x27;,\n",
       "                                                  OneHotEncoder(drop=&#x27;first&#x27;,\n",
       "                                                                handle_unknown=&#x27;ignore&#x27;))]),\n",
       "                                 [&#x27;Gender&#x27;, &#x27;Distance&#x27;, &#x27;DepartmentCode&#x27;,\n",
       "                                  &#x27;ExperienceLevel&#x27;])])</pre></div></div></div><div class=\"sk-parallel\"><div class=\"sk-parallel-item\"><div class=\"sk-item\"><div class=\"sk-label-container\"><div class=\"sk-label sk-toggleable\"><input class=\"sk-toggleable__control sk-hidden--visually\" id=\"sk-estimator-id-10\" type=\"checkbox\" ><label for=\"sk-estimator-id-10\" class=\"sk-toggleable__label sk-toggleable__label-arrow\">num pipeline</label><div class=\"sk-toggleable__content\"><pre>[&#x27;YearsWorked&#x27;, &#x27;PreviousSalary&#x27;, &#x27;Salary&#x27;, &#x27;SelfReview&#x27;, &#x27;SupervisorReview&#x27;, &#x27;Salary_Change&#x27;]</pre></div></div></div><div class=\"sk-serial\"><div class=\"sk-item\"><div class=\"sk-serial\"><div class=\"sk-item\"><div class=\"sk-estimator sk-toggleable\"><input class=\"sk-toggleable__control sk-hidden--visually\" id=\"sk-estimator-id-11\" type=\"checkbox\" ><label for=\"sk-estimator-id-11\" class=\"sk-toggleable__label sk-toggleable__label-arrow\">SimpleImputer</label><div class=\"sk-toggleable__content\"><pre>SimpleImputer(strategy=&#x27;median&#x27;)</pre></div></div></div><div class=\"sk-item\"><div class=\"sk-estimator sk-toggleable\"><input class=\"sk-toggleable__control sk-hidden--visually\" id=\"sk-estimator-id-12\" type=\"checkbox\" ><label for=\"sk-estimator-id-12\" class=\"sk-toggleable__label sk-toggleable__label-arrow\">StandardScaler</label><div class=\"sk-toggleable__content\"><pre>StandardScaler()</pre></div></div></div></div></div></div></div></div><div class=\"sk-parallel-item\"><div class=\"sk-item\"><div class=\"sk-label-container\"><div class=\"sk-label sk-toggleable\"><input class=\"sk-toggleable__control sk-hidden--visually\" id=\"sk-estimator-id-13\" type=\"checkbox\" ><label for=\"sk-estimator-id-13\" class=\"sk-toggleable__label sk-toggleable__label-arrow\">cat pipeline</label><div class=\"sk-toggleable__content\"><pre>[&#x27;Gender&#x27;, &#x27;Distance&#x27;, &#x27;DepartmentCode&#x27;, &#x27;ExperienceLevel&#x27;]</pre></div></div></div><div class=\"sk-serial\"><div class=\"sk-item\"><div class=\"sk-serial\"><div class=\"sk-item\"><div class=\"sk-estimator sk-toggleable\"><input class=\"sk-toggleable__control sk-hidden--visually\" id=\"sk-estimator-id-14\" type=\"checkbox\" ><label for=\"sk-estimator-id-14\" class=\"sk-toggleable__label sk-toggleable__label-arrow\">SimpleImputer</label><div class=\"sk-toggleable__content\"><pre>SimpleImputer(strategy=&#x27;most_frequent&#x27;)</pre></div></div></div><div class=\"sk-item\"><div class=\"sk-estimator sk-toggleable\"><input class=\"sk-toggleable__control sk-hidden--visually\" id=\"sk-estimator-id-15\" type=\"checkbox\" ><label for=\"sk-estimator-id-15\" class=\"sk-toggleable__label sk-toggleable__label-arrow\">OneHotEncoder</label><div class=\"sk-toggleable__content\"><pre>OneHotEncoder(drop=&#x27;first&#x27;, handle_unknown=&#x27;ignore&#x27;)</pre></div></div></div></div></div></div></div></div></div></div><div class=\"sk-item\"><div class=\"sk-estimator sk-toggleable\"><input class=\"sk-toggleable__control sk-hidden--visually\" id=\"sk-estimator-id-16\" type=\"checkbox\" ><label for=\"sk-estimator-id-16\" class=\"sk-toggleable__label sk-toggleable__label-arrow\">DecisionTreeClassifier</label><div class=\"sk-toggleable__content\"><pre>DecisionTreeClassifier(max_depth=10, min_samples_leaf=70, min_samples_split=20)</pre></div></div></div></div></div></div></div>"
      ],
      "text/plain": [
       "Pipeline(steps=[('data_processing',\n",
       "                 ColumnTransformer(transformers=[('num pipeline',\n",
       "                                                  Pipeline(steps=[('impute_missing',\n",
       "                                                                   SimpleImputer(strategy='median')),\n",
       "                                                                  ('standardize_num',\n",
       "                                                                   StandardScaler())]),\n",
       "                                                  ['YearsWorked',\n",
       "                                                   'PreviousSalary', 'Salary',\n",
       "                                                   'SelfReview',\n",
       "                                                   'SupervisorReview',\n",
       "                                                   'Salary_Change']),\n",
       "                                                 ('cat pipeline',\n",
       "                                                  Pipeline(steps=[('impute_missing_cats',\n",
       "                                                                   SimpleImputer(strategy='most_frequent')),\n",
       "                                                                  ('create_dummies_cats',\n",
       "                                                                   OneHotEncoder(drop='first',\n",
       "                                                                                 handle_unknown='ignore'))]),\n",
       "                                                  ['Gender', 'Distance',\n",
       "                                                   'DepartmentCode',\n",
       "                                                   'ExperienceLevel'])])),\n",
       "                ('ml',\n",
       "                 DecisionTreeClassifier(max_depth=10, min_samples_leaf=70,\n",
       "                                        min_samples_split=20))])"
      ]
     },
     "execution_count": 35,
     "metadata": {},
     "output_type": "execute_result"
    }
   ],
   "source": [
    "from sklearn.model_selection import train_test_split\n",
    "X_train, X_test, y_train, y_test = train_test_split(X,y,test_size=0.20)\n",
    "\n",
    "print(f'Training examples: {X_train.shape[0]:,}')\n",
    "print(f'Test examples: {X_test.shape[0]:,}')\n",
    "\n",
    "best_modeling_pipeline = Pipeline([\n",
    "    ('data_processing', processing_pipeline),\n",
    "    ('ml', DecisionTreeClassifier(criterion='gini',max_depth=10,min_samples_leaf=70,min_samples_split=20))]\n",
    ")\n",
    "best_modeling_pipeline"
   ]
  },
  {
   "cell_type": "code",
   "execution_count": 36,
   "id": "7fbd0fa2",
   "metadata": {},
   "outputs": [
    {
     "name": "stdout",
     "output_type": "stream",
     "text": [
      "              precision    recall  f1-score   support\n",
      "\n",
      "           0       0.97      0.87      0.92     46190\n",
      "           1       0.68      0.91      0.78     13810\n",
      "\n",
      "    accuracy                           0.88     60000\n",
      "   macro avg       0.82      0.89      0.85     60000\n",
      "weighted avg       0.90      0.88      0.89     60000\n",
      "\n"
     ]
    }
   ],
   "source": [
    "from sklearn.metrics import classification_report\n",
    "\n",
    "best_modeling_pipeline.fit(X_train, y_train)\n",
    "y_pred = best_modeling_pipeline.predict(X_test)\n",
    "print(classification_report(y_test, y_pred))"
   ]
  },
  {
   "cell_type": "markdown",
   "id": "b05bc079",
   "metadata": {},
   "source": [
    "Conclusion: In this project, we evaluated three different machine learning models - Logistic Regression, Decision Trees, and Random Forest - to address our classification problem, with a focus on optimizing the F1 score as our primary metric due to its relevance in balancing precision and recall, particularly important in the context of our dataset's characteristics.\n",
    "\n",
    "The performance of the models, as measured by the F1 score, varied, indicating different levels of suitability for our task:\n",
    "\n",
    "Logistic Regression showed the least variance between training (0.61) and testing (0.65) F1 scores, suggesting good generalization but overall lower performance compared to the other models.\n",
    "Decision Trees yielded F1 scores of 0.78 (train) and 0.76 (test), demonstrating a slightly better balance between precision and recall than Logistic Regression and exhibiting modest overfitting.\n",
    "Random Forest achieved the highest F1 scores among the evaluated models, with 0.88 (train) and 0.78 (test), indicating a strong performance on the training data but also the most significant overfitting.\n",
    "Given these results, the Decision Tree model was chosen for its favorable balance between training and testing performance, suggesting it as the most suitable model among those tested. This model provides a good starting point for our classification task, offering a reasonable trade-off between simplicity, interpretability, and predictive power.\n",
    "\n",
    "Future Work:\n",
    "- Work on future engineering with caution(considering complexity).\n",
    "- Adjust the hyper parameters."
   ]
  },
  {
   "cell_type": "code",
   "execution_count": null,
   "id": "c43cd789",
   "metadata": {},
   "outputs": [],
   "source": []
  }
 ],
 "metadata": {
  "kernelspec": {
   "display_name": "Python 3 (ipykernel)",
   "language": "python",
   "name": "python3"
  },
  "language_info": {
   "codemirror_mode": {
    "name": "ipython",
    "version": 3
   },
   "file_extension": ".py",
   "mimetype": "text/x-python",
   "name": "python",
   "nbconvert_exporter": "python",
   "pygments_lexer": "ipython3",
   "version": "3.11.4"
  }
 },
 "nbformat": 4,
 "nbformat_minor": 5
}
